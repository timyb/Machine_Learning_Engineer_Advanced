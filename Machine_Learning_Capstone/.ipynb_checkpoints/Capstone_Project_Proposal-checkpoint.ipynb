{
 "cells": [
  {
   "cell_type": "markdown",
   "metadata": {
    "collapsed": true
   },
   "source": [
    "<div style=\"text-align: center\"><h1>Cervical cancer key risk factors identification</h1></div>"
   ]
  },
  {
   "cell_type": "markdown",
   "metadata": {},
   "source": [
    "<h2>Capstone_Project_Proposal</h2>\n",
    "__________________________________________________________\n",
    "Machine Learning Engineer Nanodegree<br>\n",
    "Tim<br>\n",
    "January 30th, 2018"
   ]
  },
  {
   "cell_type": "markdown",
   "metadata": {
    "collapsed": true
   },
   "source": [
    "<h2>Domain Background</h2>\n",
    "\n",
    "Cervical cancer caused by uncontrolled growth of cells in the cervix ([Reference](https://www.cancer.org/cancer/cervical-cancer/about/what-is-cervical-cancer.html)), its' death rate might be higher than people previously thought it to be ([Reference](https://www.cnn.com/2017/01/23/health/cervical-cancer-death-study/index.html)). In the United States, an estimated number of death of this disease in 2018 for women is up to 4170 ([Reference](https://www.cancer.org/cancer/cervical-cancer/about/key-statistics.html)). So it's important to find out which key risk factors would signally increase women's chance of developing cervical cancer, as well as to predict whether someone got the disease. So that we can come up with better preventive methods(and diagnostic) to detect the disease earlier, and minimize the death rate of it.  "
   ]
  },
  {
   "cell_type": "markdown",
   "metadata": {},
   "source": [
    "<h2>Problem Statement</h2>\n",
    "\n",
    "The data set provides historic medical records (described by few attributes) of 858 patients(The dataset was collected at 'Hospital Universitario de Caracas' in Caracas, Venezuela). The goal is first to use the data to train a classfier that can be used to tell whether a patient has this disease when new data flow in, and to tell among all these features, which ones are going to be more predictive (or maybe say informative) than others in diagnosing cervical cancer.\n",
    "\n",
    "Since the data set is a labeled one (each data point has been labeled 1 for having the disease, 0 for not having the disease), so the problem is binary classification in supervisd learning. A few classification algorithms should be explored in the purpose of finding the most suitable one."
   ]
  },
  {
   "cell_type": "markdown",
   "metadata": {},
   "source": [
    "<h2>Datasets and Inputs</h2>\n",
    "\n",
    "The data set to be used in this project has been downloaded from [UCI Machine Learning Repository](https://archive.ics.uci.edu/ml/datasets/Cervical+cancer+%28Risk+Factors%29). Information of those features can be found above link. I would also explain some terminology which have been used to name those features.\n",
    "\n",
    "   * Intrauterine Device(IUD) is a device that to be placed into a woman's uterus to prevent pregnancy, detailed description can be found through the wiki page for this term [IUD](https://en.wikipedia.org/wiki/Intrauterine_device)\n",
    "   * Sexually Transmitted Disease(STD) is disease that are spread by sex. [STD](https://en.wikipedia.org/wiki/Sexually_transmitted_infection)\n",
    "   * Diagnosis(Dx).[Dx](https://medical-dictionary.thefreedictionary.com/Dx)\n",
    "   * Hinselmann refers to the medical diagnostic procedure which has been developed by the German physician Hans Hinselmann, its' main application is to prevent cervical cancer. More details can be found in [Colposcopy](https://en.wikipedia.org/wiki/Colposcopy)\n",
    "   * Cervical intraepithelial neoplasia(CIN) is an indicaition of cancerization, more details can be found here [CIN](https://en.wikipedia.org/wiki/Cervical_intraepithelial_neoplasia)\n",
    "   * Schiller refers to a medical test to diagnose cervical cancer, but it's not specific for cervical cancer. [Schiller](https://en.wikipedia.org/wiki/Schiller%27s_test)\n",
    "   * Cytology and Biopsy are both tests that industry use to find cancer, more details are available here [Cytology and Biopsy](https://www.cancer.org/treatment/understanding-your-diagnosis/tests/testing-biopsy-and-cytology-specimens-for-cancer.html)\n",
    "   \n",
    "This data set contains 36 relevant features with up to 858 instances, it has demographic, habits (like smoking), and medical records which would be useful for prediction. What's more, there're already some kernels on Kaggle working on this subject so we can use them as benchmark. In consideration of these, the data set should be an appropriate one for the project.\n",
    "\n",
    "\n",
    "<h4>Citation:</h4>\n",
    "\n",
    "Kelwin Fernandes, Jaime S. Cardoso, and Jessica Fernandes. 'Transfer Learning with Partial Observability Applied to Cervical Cancer Screening.' Iberian Conference on Pattern Recognition and Image Analysis. Springer International Publishing, 2017.\n"
   ]
  },
  {
   "cell_type": "markdown",
   "metadata": {},
   "source": [
    "<h2>Solution Statement</h2>\n",
    "\n",
    "We've labeled data set and the task associated with it is a binary classification one, some supervised learning algorithms should be approprate approaches to tackle this problem, more precisely, I would like to try things like SVM, Gradient Boosting, or GaussianNB. Accuracy score and F-score would be our quantifiable result which can be used to compared with some benchmark models."
   ]
  },
  {
   "cell_type": "code",
   "execution_count": null,
   "metadata": {
    "collapsed": true
   },
   "outputs": [],
   "source": []
  }
 ],
 "metadata": {
  "kernelspec": {
   "display_name": "Python 2",
   "language": "python",
   "name": "python2"
  },
  "language_info": {
   "codemirror_mode": {
    "name": "ipython",
    "version": 2
   },
   "file_extension": ".py",
   "mimetype": "text/x-python",
   "name": "python",
   "nbconvert_exporter": "python",
   "pygments_lexer": "ipython2",
   "version": "2.7.14"
  }
 },
 "nbformat": 4,
 "nbformat_minor": 2
}
